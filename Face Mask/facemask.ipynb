{
 "cells": [
  {
   "cell_type": "code",
   "execution_count": 11,
   "id": "514730b0",
   "metadata": {},
   "outputs": [],
   "source": [
    "import cv2\n",
    "import numpy as np\n",
    "import matplotlib.pyplot as plt"
   ]
  },
  {
   "cell_type": "code",
   "execution_count": 12,
   "id": "40b89f90",
   "metadata": {},
   "outputs": [],
   "source": [
    "yolo = cv2.dnn.readNet(\"yolov4-custom.cfg\",\"yolov4-custom_best.weights\")\n",
    "\n",
    "cap =cv2.VideoCapture(0)"
   ]
  },
  {
   "cell_type": "code",
   "execution_count": 13,
   "id": "fc6c4d78",
   "metadata": {},
   "outputs": [],
   "source": [
    "classes =[]\n",
    "with open(\"./obj.names\",\"r\") as f:\n",
    "    classes =f.read().splitlines()\n"
   ]
  },
  {
   "cell_type": "code",
   "execution_count": 14,
   "id": "066ce0d8",
   "metadata": {},
   "outputs": [],
   "source": [
    "while True:\n",
    "    _,img = cap.read()\n",
    "    height,width,_=img.shape\n",
    "    blob =cv2.dnn.blobFromImage(img,1/255,(416,416),(0,0,0),swapRB=True,crop=False)\n",
    "    yolo.setInput(blob)\n",
    "    op_layer = yolo.getUnconnectedOutLayersNames()\n",
    "    layer_op = yolo.forward(op_layer)\n",
    "    boxes =[]\n",
    "    confidences =[]\n",
    "    class_ids =[]\n",
    "    for op in layer_op:\n",
    "        for det in op:\n",
    "            score = det[5:]\n",
    "            class_id = np.argmax(score)\n",
    "            confidence = score[class_id]\n",
    "            if confidence > 0.7:\n",
    "                c_x= int(det[0]*width)\n",
    "                c_y= int(det[0]*height)\n",
    "                w= int(det[0]*width)\n",
    "                h= int(det[0]*height)\n",
    "                x=int(c_x-w/2)\n",
    "                y=int(c_y-h/2)\n",
    "                boxes.append([x,y,w,h])\n",
    "                confidences.append(float(confidence))\n",
    "                class_ids.append(class_id)\n",
    "    indexes = cv2.dnn.NMSBoxes(boxes,confidences,0.5,0.4)\n",
    "    font  = cv2.FONT_HERSHEY_PLAIN\n",
    "    colors = np.random.uniform(0,255,size =(len(boxes),3))\n",
    "    #img = cv2.resize(img,(320,320),interpolation=cv2.INTER_AREA)\n",
    "    if len(boxes)>0:\n",
    "        for i in indexes.flatten():\n",
    "            x,y,w,h = boxes[i]\n",
    "            label = str(classes[class_ids[i]])\n",
    "            con = str(confidences[i])\n",
    "            col = colors[i]\n",
    "            cv2.rectangle(img,(x,y),(x+w,y+h),col,2)\n",
    "            cv2.putText(img,label+\" \"+con,(x,y+20),font,2,(255,255,255),1)\n",
    "    cv2.imshow(\"live\",img)\n",
    "    key=cv2.waitKey(1)\n",
    "    if key==27:\n",
    "        cap.release()\n",
    "        cv2.destroyAllWindows()\n",
    "        break"
   ]
  },
  {
   "cell_type": "code",
   "execution_count": null,
   "id": "e0086c6b",
   "metadata": {},
   "outputs": [],
   "source": []
  }
 ],
 "metadata": {
  "kernelspec": {
   "display_name": "Python 3",
   "language": "python",
   "name": "python3"
  },
  "language_info": {
   "codemirror_mode": {
    "name": "ipython",
    "version": 3
   },
   "file_extension": ".py",
   "mimetype": "text/x-python",
   "name": "python",
   "nbconvert_exporter": "python",
   "pygments_lexer": "ipython3",
   "version": "3.9.5"
  }
 },
 "nbformat": 4,
 "nbformat_minor": 5
}
